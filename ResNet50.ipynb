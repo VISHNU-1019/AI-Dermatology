{
 "cells": [
  {
   "cell_type": "code",
   "execution_count": 1,
   "metadata": {},
   "outputs": [],
   "source": [
    "import os\n",
    "import numpy as np\n",
    "import tensorflow as tf\n",
    "from tensorflow.keras.preprocessing.image import ImageDataGenerator\n",
    "from tensorflow.keras.applications import ResNet50\n",
    "from tensorflow.keras.models import Sequential\n",
    "from tensorflow.keras.layers import Dense, GlobalAveragePooling2D, Dropout\n",
    "from tensorflow.keras.optimizers import Adam\n",
    "from tensorflow.keras.models import Model"
   ]
  },
  {
   "cell_type": "code",
   "execution_count": 2,
   "metadata": {},
   "outputs": [],
   "source": [
    "# Step 2: Define a dictionary to map class indices to disease names\n",
    "class_labels = {\n",
    "    0: 'Acne and Rosacea Photos',\n",
    "    1: 'Actinic Keratosis Basal Cell Carcinoma and other Malignant Lesions',\n",
    "    2: 'Atopic Dermatitis Photos',\n",
    "    3: 'Bullous Disease Photos',\n",
    "    4: 'Cellulitis Impetigo and other Bacterial Infections',\n",
    "    5: 'Eczema Photos',\n",
    "    6: 'Exanthems and Drug Eruptions',\n",
    "    7: 'Hair Loss Photos Alopecia and other Hair Diseases',\n",
    "    8: 'Herpes HPV and other STDs Photos',\n",
    "    9: 'Light Diseases and Disorders of Pigmentation',\n",
    "    10: 'Lupus and other Connective Tissue diseases',\n",
    "    11: 'Melanoma Skin Cancer Nevi and Moles',\n",
    "    12: 'Nail Fungus and other Nail Disease',\n",
    "    13: 'Poison Ivy Photos and other Contact Dermatitis',\n",
    "    14: 'Psoriasis pictures Lichen Planus and related diseases',\n",
    "    15: 'Scabies Lyme Disease and other Infestations and Bites',\n",
    "    16: 'Seborrheic Keratoses and other Benign Tumors',\n",
    "    17: 'Systemic Disease',\n",
    "    18: 'Tinea Ringworm Candidiasis and other Fungal Infections',\n",
    "    19: 'Urticaria Hives',\n",
    "    20: 'Vascular Tumors',\n",
    "    21: 'Vasculitis Photos',\n",
    "    22: 'Warts Molluscum and other Viral Infections'\n",
    "}"
   ]
  },
  {
   "cell_type": "code",
   "execution_count": 3,
   "metadata": {},
   "outputs": [],
   "source": [
    "# Define constants\n",
    "IMAGE_SIZE = (224, 224)  # ResNet50 input size\n",
    "BATCH_SIZE = 128\n",
    "NUM_CLASSES = len(class_labels)  # The number of classes in your dataset"
   ]
  },
  {
   "cell_type": "code",
   "execution_count": 4,
   "metadata": {},
   "outputs": [],
   "source": [
    "train_datagen = ImageDataGenerator(\n",
    "    rescale=1.0 / 255.0,  # Normalize pixel values to [0, 1]\n",
    "    rotation_range=20,\n",
    "    width_shift_range=0.2,\n",
    "    height_shift_range=0.2,\n",
    "    shear_range=0.2,\n",
    "    zoom_range=0.2,\n",
    "    horizontal_flip=True,\n",
    "    fill_mode='nearest'\n",
    ")"
   ]
  },
  {
   "cell_type": "code",
   "execution_count": 5,
   "metadata": {},
   "outputs": [
    {
     "name": "stdout",
     "output_type": "stream",
     "text": [
      "Found 15550 images belonging to 23 classes.\n"
     ]
    }
   ],
   "source": [
    "train_generator = train_datagen.flow_from_directory(\n",
    "     'D:/skin dataset/train',\n",
    "    target_size=IMAGE_SIZE,\n",
    "    batch_size=BATCH_SIZE,\n",
    "    class_mode='categorical'\n",
    ")"
   ]
  },
  {
   "cell_type": "code",
   "execution_count": 6,
   "metadata": {},
   "outputs": [
    {
     "name": "stdout",
     "output_type": "stream",
     "text": [
      "Found 3931 images belonging to 23 classes.\n"
     ]
    }
   ],
   "source": [
    "\n",
    "test_datagen = ImageDataGenerator(rescale=1.0 / 255.0)\n",
    "\n",
    "test_generator = test_datagen.flow_from_directory(\n",
    "    'D:/skin dataset/test',\n",
    "    target_size=IMAGE_SIZE,\n",
    "    batch_size=BATCH_SIZE,\n",
    "    class_mode='categorical'\n",
    ")"
   ]
  },
  {
   "cell_type": "code",
   "execution_count": 7,
   "metadata": {},
   "outputs": [],
   "source": [
    "# Create a ResNet50 base model with pre-trained weights\n",
    "base_model = ResNet50(weights='imagenet', include_top=False, input_shape=(224, 224, 3))\n",
    "\n",
    "# Add custom classification layers on top of the base model\n",
    "x = base_model.output\n",
    "x = GlobalAveragePooling2D()(x)\n",
    "x = Dense(1024, activation='relu')(x)\n",
    "x = Dropout(0.5)(x)\n",
    "predictions = Dense(NUM_CLASSES, activation='softmax')(x)\n",
    "\n",
    "# Create the final model\n",
    "model = Model(inputs=base_model.input, outputs=predictions)\n",
    "\n",
    "# Freeze the layers of the base model\n",
    "for layer in base_model.layers:\n",
    "    layer.trainable = False\n",
    "\n",
    "# Compile the model\n",
    "model.compile(optimizer=Adam(learning_rate=0.0001), loss='categorical_crossentropy', metrics=['accuracy'])"
   ]
  },
  {
   "cell_type": "code",
   "execution_count": null,
   "metadata": {},
   "outputs": [],
   "source": [
    "from tensorflow.keras.callbacks import ModelCheckpoint\n",
    "\n",
    "# Define a ModelCheckpoint callback\n",
    "checkpoint = ModelCheckpoint(\n",
    "    'model_checkpoint.h5',  # Specify the file to save the checkpoints\n",
    "    monitor='val_loss',     # Monitor validation loss\n",
    "    verbose=1,              # Verbosity level (0 or 1)\n",
    "    save_best_only=True,    # Save only the best model (based on validation loss)\n",
    "    mode='min'              # Mode to monitor ('min' for loss, 'max' for accuracy)\n",
    ")\n",
    "epochs = 200\n",
    "history = model.fit(\n",
    "    train_generator,\n",
    "    steps_per_epoch=train_generator.samples // BATCH_SIZE,\n",
    "    validation_data=test_generator,\n",
    "    validation_steps=test_generator.samples // BATCH_SIZE,\n",
    "    epochs=epochs\n",
    ")\n",
    "\n"
   ]
  },
  {
   "cell_type": "code",
   "execution_count": null,
   "metadata": {},
   "outputs": [],
   "source": [
    "# Evaluate the model on the testing set\n",
    "loss, accuracy = model.evaluate(test_generator)\n",
    "print(f\"Test Loss: {loss}\")\n",
    "print(f\"Test Accuracy: {accuracy}\")\n",
    "\n",
    "# Save the model\n",
    "model.save('skin_disease_classifier_resnet50.h5')\n",
    "model.save('skin_disease_classifier_resnet50.keras')\n"
   ]
  }
 ],
 "metadata": {
  "kernelspec": {
   "display_name": "base",
   "language": "python",
   "name": "python3"
  },
  "language_info": {
   "codemirror_mode": {
    "name": "ipython",
    "version": 3
   },
   "file_extension": ".py",
   "mimetype": "text/x-python",
   "name": "python",
   "nbconvert_exporter": "python",
   "pygments_lexer": "ipython3",
   "version": "3.11.4"
  },
  "orig_nbformat": 4
 },
 "nbformat": 4,
 "nbformat_minor": 2
}
