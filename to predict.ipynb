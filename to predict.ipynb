{
 "cells": [
  {
   "cell_type": "code",
   "execution_count": 1,
   "metadata": {},
   "outputs": [],
   "source": [
    "import os\n",
    "import numpy as np\n",
    "from tensorflow import keras\n",
    "from tensorflow.keras.preprocessing import image"
   ]
  },
  {
   "cell_type": "code",
   "execution_count": null,
   "metadata": {},
   "outputs": [],
   "source": [
    "# Step 1: Define paths to multiple model files\n",
    "model_paths = [\n",
    "    '/content/drive/MyDrive/model1.h5',\n",
    "    '/content/drive/MyDrive/model2.h5',\n",
    "    '/content/drive/MyDrive/model3.h5',\n",
    "    '/content/drive/MyDrive/model4.h5',\n",
    "    '/content/drive/MyDrive/model5.h5',\n",
    "]\n"
   ]
  },
  {
   "cell_type": "code",
   "execution_count": 3,
   "metadata": {},
   "outputs": [],
   "source": [
    "# Step 2: Define a dictionary to map class indices to disease names\n",
    "class_labels = {\n",
    "    0: 'Acne and Rosacea Photos',\n",
    "    1: 'Actinic Keratosis Basal Cell Carcinoma and other Malignant Lesions',\n",
    "    2: 'Atopic Dermatitis Photos',\n",
    "    3: 'Bullous Disease Photos',\n",
    "    4: 'Cellulitis Impetigo and other Bacterial Infections',\n",
    "    5: 'Eczema Photos',\n",
    "    6: 'Exanthems and Drug Eruptions',\n",
    "    7: 'Hair Loss Photos Alopecia and other Hair Diseases',\n",
    "    8: 'Herpes HPV and other STDs Photos',\n",
    "    9: 'Light Diseases and Disorders of Pigmentation',\n",
    "    10: 'Lupus and other Connective Tissue diseases',\n",
    "    11: 'Melanoma Skin Cancer Nevi and Moles',\n",
    "    12: 'Nail Fungus and other Nail Disease',\n",
    "    13: 'Poison Ivy Photos and other Contact Dermatitis',\n",
    "    14: 'Psoriasis pictures Lichen Planus and related diseases',\n",
    "    15: 'Scabies Lyme Disease and other Infestations and Bites',\n",
    "    16: 'Seborrheic Keratoses and other Benign Tumors',\n",
    "    17: 'Systemic Disease',\n",
    "    18: 'Tinea Ringworm Candidiasis and other Fungal Infections',\n",
    "    19: 'Urticaria Hives',\n",
    "    20: 'Vascular Tumors',\n",
    "    21: 'Vasculitis Photos',\n",
    "    22: 'Warts Molluscum and other Viral Infections'\n",
    "    # Add more class labels as needed...\n",
    "}\n"
   ]
  },
  {
   "cell_type": "code",
   "execution_count": 4,
   "metadata": {},
   "outputs": [],
   "source": [
    "# Step 3: Define a function to preprocess an image\n",
    "def preprocess_image(img_path):\n",
    "    img = image.load_img(img_path, target_size=(224, 224))\n",
    "    img = image.img_to_array(img)\n",
    "    img = np.expand_dims(img, axis=0)\n",
    "    img = img / 255.0  # Normalize pixel values\n",
    "    return img"
   ]
  },
  {
   "cell_type": "code",
   "execution_count": 5,
   "metadata": {},
   "outputs": [],
   "source": [
    "# Step 4: Define a function to predict disease based on an uploaded image and multiple models\n",
    "def predict_disease(img_path, models):\n",
    "    results = []\n",
    "\n",
    "    for model in models:\n",
    "        img = preprocess_image(img_path)\n",
    "        predictions = model.predict(img)\n",
    "\n",
    "        # Get the predicted class index\n",
    "        predicted_class_index = np.argmax(predictions)\n",
    "\n",
    "        # Get the predicted disease label\n",
    "        predicted_disease = class_labels[predicted_class_index]\n",
    "\n",
    "        # Get the confidence of the prediction\n",
    "        confidence = predictions[0][predicted_class_index]\n",
    "\n",
    "        results.append((predicted_disease, confidence))\n",
    "\n",
    "    return results"
   ]
  },
  {
   "cell_type": "code",
   "execution_count": 6,
   "metadata": {},
   "outputs": [],
   "source": [
    "# Step 5: Upload multiple images for disease identification\n",
    "uploaded_image_paths = [\n",
    "    '/content/drive/MyDrive/Skin cancer/archive (2)/test/Eczema Photos/Dyshidrosis-13.jpg', \n",
    "    # Add more image paths here...\n",
    "]"
   ]
  },
  {
   "cell_type": "code",
   "execution_count": null,
   "metadata": {},
   "outputs": [],
   "source": [
    "# Step 6: Load the multiple models\n",
    "loaded_models = [keras.models.load_model(path) for path in model_paths]"
   ]
  },
  {
   "cell_type": "code",
   "execution_count": null,
   "metadata": {},
   "outputs": [],
   "source": [
    "# Step 7: Make predictions on each uploaded image using multiple models\n",
    "for img_path in uploaded_image_paths:\n",
    "    predictions = predict_disease(img_path, loaded_models)"
   ]
  },
  {
   "cell_type": "code",
   "execution_count": null,
   "metadata": {},
   "outputs": [],
   "source": [
    "  # Step 8: Print the predicted diseases and confidences for each model\n",
    "for i, (predicted_class, confidence) in enumerate(predictions, start=1):\n",
    "        print(f'Image: {img_path}')\n",
    "        print(f'Model {i} Predicted Disease: {predicted_class}')\n",
    "        print(f'Model {i} Confidence: {confidence:.2f}')\n",
    "        print()"
   ]
  },
  {
   "cell_type": "code",
   "execution_count": null,
   "metadata": {},
   "outputs": [],
   "source": [
    "\n",
    "# Step 9: Automatically print the diagnosis\n",
    "def diagnose_skin_condition(category):\n",
    "    category = category.lower()\n",
    "    if \"acne and rosacea photos\" in category:\n",
    "        return \"Based on the category you provided, you may be experiencing acne or rosacea. It's recommended to consult a dermatologist for a proper evaluation and treatment.\"\n",
    "    elif \"actinic keratosis\" in category or \"basal cell carcinoma\" in category or \"malignant lesions\" in category:\n",
    "        return \"Based on the category you provided, you may have actinic keratosis, basal cell carcinoma, or other malignant lesions. It's crucial to consult a dermatologist for a proper diagnosis and treatment.\"\n",
    "    elif \"atopic dermatitis\" in category:\n",
    "        return \"Based on the category you provided, you may have atopic dermatitis. Consult a dermatologist for an accurate diagnosis and treatment.\"\n",
    "    elif \"bullous disease\" in category:\n",
    "        return \"Based on the category you provided, you may have a bullous disease. It's important to consult a dermatologist for a proper diagnosis and treatment.\"\n",
    "    elif \"cellulitis\" in category or \"impetigo\" in category or \"bacterial infections\" in category:\n",
    "        return \"Based on the category you provided, you may have cellulitis, impetigo, or another bacterial infection. Consult a dermatologist for proper evaluation and treatment.\"\n",
    "    elif \"eczema photos\" in category:\n",
    "        return \"Based on the category you provided, you may have eczema. It's advisable to consult a dermatologist for an accurate diagnosis and treatment.\"\n",
    "    elif \"exanthems\" in category or \"drug eruptions\" in category:\n",
    "        return \"Based on the category you provided, you may have exanthems or drug eruptions. Consult a healthcare professional for a proper evaluation and treatment.\"\n",
    "    elif \"hair loss photos\" in category or \"alopecia\" in category or \"hair diseases\" in category:\n",
    "        return \"Based on the category you provided, you may be experiencing hair loss or other hair diseases. It's recommended to consult a dermatologist for an evaluation.\"\n",
    "    elif \"herpes\" in category or \"hpv\" in category or \"stds\" in category:\n",
    "        return \"Based on the category you provided, you may have herpes, HPV, or another STD. It's crucial to consult a healthcare professional for diagnosis and treatment.\"\n",
    "    elif \"light diseases\" in category or \"disorders of pigmentation\" in category:\n",
    "        return \"Based on the category you provided, you may have light-related diseases or pigmentation disorders. Consult a dermatologist for proper evaluation and treatment.\"\n",
    "    elif \"lupus\" in category or \"connective tissue diseases\" in category:\n",
    "        return \"Based on the category you provided, you may have lupus or other connective tissue diseases. It's advisable to consult a healthcare professional for an accurate diagnosis.\"\n",
    "    elif \"melanoma\" in category or \"skin cancer\" in category or \"nevi\" in category or \"moles\" in category:\n",
    "        return \"Based on the category you provided, you may be at risk of melanoma or have moles. Consult a dermatologist for a skin examination and assessment.\"\n",
    "    elif \"nail fungus\" in category or \"nail disease\" in category:\n",
    "        return \"Based on the category you provided, you may have nail fungus or another nail disease. It's recommended to consult a dermatologist for an evaluation.\"\n",
    "    elif \"poison ivy photos\" in category or \"contact dermatitis\" in category:\n",
    "        return \"Based on the category you provided, you may have poison ivy or other contact dermatitis. Consult a healthcare professional for proper diagnosis and treatment.\"\n",
    "    elif \"psoriasis pictures\" in category or \"lichen planus\" in category or \"related diseases\" in category:\n",
    "        return \"Based on the category you provided, you may have psoriasis, lichen planus, or related diseases. It's crucial to consult a dermatologist for an accurate diagnosis and treatment.\"\n",
    "    elif \"scabies\" in category or \"lyme disease\" in category or \"infestations and bites\" in category:\n",
    "        return \"Based on the category you provided, you may have scabies, Lyme disease, or other infestations and bites. Consult a healthcare professional for proper evaluation and treatment.\"\n",
    "    elif \"seborrheic keratoses\" in category or \"benign tumors\" in category:\n",
    "        return \"Based on the category you provided, you may have seborrheic keratoses or other benign tumors. It's recommended to consult a dermatologist for a proper evaluation.\"\n",
    "    elif \"systemic disease\" in category:\n",
    "        return \"Based on the category you provided, you may have a systemic disease. Consult a healthcare professional for an accurate diagnosis and treatment.\"\n",
    "    elif \"tinea\" in category or \"ringworm\" in category or \"candidiasis\" in category or \"fungal infections\" in category:\n",
    "        return \"Based on the category you provided, you may have a fungal skin infection such as tinea or candidiasis. It's important to consult a dermatologist for a proper diagnosis and treatment.\"\n",
    "    elif \"urticaria\" in category or \"hives\" in category:\n",
    "        return \"Based on the category you provided, you may have urticaria or hives. Consult a healthcare professional for proper evaluation and treatment.\"\n",
    "    elif \"vascular tumors\" in category:\n",
    "        return \"Based on the category you provided, you may have vascular tumors. It's recommended to consult a dermatologist for an accurate diagnosis and treatment.\"\n",
    "    elif \"vasculitis\" in category:\n",
    "        return \"Based on the category you provided, you may have vasculitis. Consult a healthcare professional for proper evaluation and treatment.\"\n",
    "    elif \"warts\" in category or \"molluscum\" in category or \"viral infections\" in category:\n",
    "        return \"Based on the category you provided, you may have warts, molluscum, or other viral infections. It's crucial to consult a dermatologist for diagnosis and treatment.\"\n",
    "    else:\n",
    "        return \"The provided category is not recognized. Please consult a healthcare professional for a proper evaluation.\"\n"
   ]
  },
  {
   "cell_type": "code",
   "execution_count": null,
   "metadata": {},
   "outputs": [],
   "source": [
    "  for i, (predicted_class, _) in enumerate(predictions, start=1):\n",
    "            diagnosis = diagnose_skin_condition(predicted_class)\n",
    "            print(f'Model {i} Diagnosis: {diagnosis}')\n",
    "            print()"
   ]
  },
  {
   "cell_type": "code",
   "execution_count": null,
   "metadata": {},
   "outputs": [],
   "source": [
    "# Step 10: Print the matching image\n",
    "for img_path in uploaded_image_paths:\n",
    "    print(f'Matching Image: {img_path}')\n",
    "    img = image.load_img(img_path)\n",
    "    display.display(img)\n",
    "\n",
    "    # Automatically print the diagnosis for the matching image\n",
    "    predictions = predict_disease(img_path, loaded_models)\n",
    "    for i, (predicted_class, _) in enumerate(predictions, start=1):\n",
    "        diagnosis = diagnose_skin_condition(predicted_class)\n",
    "        print(f'Model {i} Diagnosis: {diagnosis}')\n",
    "        print()"
   ]
  }
 ],
 "metadata": {
  "kernelspec": {
   "display_name": "base",
   "language": "python",
   "name": "python3"
  },
  "language_info": {
   "codemirror_mode": {
    "name": "ipython",
    "version": 3
   },
   "file_extension": ".py",
   "mimetype": "text/x-python",
   "name": "python",
   "nbconvert_exporter": "python",
   "pygments_lexer": "ipython3",
   "version": "3.11.4"
  },
  "orig_nbformat": 4
 },
 "nbformat": 4,
 "nbformat_minor": 2
}
